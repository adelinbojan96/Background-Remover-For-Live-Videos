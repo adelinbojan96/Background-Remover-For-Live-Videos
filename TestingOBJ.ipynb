{
 "cells": [
  {
   "cell_type": "markdown",
   "id": "a725d073",
   "metadata": {},
   "source": [
    "# Tensorflow 2.9.1"
   ]
  },
  {
   "cell_type": "code",
   "id": "e645db8d",
   "metadata": {
    "ExecuteTime": {
     "end_time": "2025-05-19T08:05:35.900595Z",
     "start_time": "2025-05-19T08:05:21.891490Z"
    }
   },
   "source": [
    "import tensorflow as tf\n",
    "tf.version.VERSION"
   ],
   "outputs": [
    {
     "data": {
      "text/plain": [
       "'2.9.1'"
      ]
     },
     "execution_count": 1,
     "metadata": {},
     "output_type": "execute_result"
    }
   ],
   "execution_count": 1
  },
  {
   "cell_type": "markdown",
   "id": "6d31bb11",
   "metadata": {},
   "source": [
    "# Creating and interaction with \"data\" directory"
   ]
  },
  {
   "cell_type": "code",
   "id": "0842ce83",
   "metadata": {
    "ExecuteTime": {
     "end_time": "2025-05-19T08:07:51.001284Z",
     "start_time": "2025-05-19T08:07:50.973459Z"
    }
   },
   "source": [
    "import os\n",
    "\n",
    "DATA_DIR = os.path.join(os.getcwd(), 'data')\n",
    "MODELS_DIR = os.path.join(DATA_DIR, 'models')\n",
    "for dir in [DATA_DIR, MODELS_DIR]:\n",
    "    if not os.path.exists(dir):\n",
    "        os.mkdir(dir)"
   ],
   "outputs": [],
   "execution_count": 2
  },
  {
   "cell_type": "markdown",
   "id": "43c7ef2f",
   "metadata": {},
   "source": [
    "# Download and prepare a pretrained object detection model\n",
    "\n"
   ]
  },
  {
   "cell_type": "code",
   "id": "0d701625",
   "metadata": {
    "ExecuteTime": {
     "end_time": "2025-05-19T08:07:56.536930Z",
     "start_time": "2025-05-19T08:07:56.521301Z"
    }
   },
   "source": [
    "import tarfile\n",
    "import urllib.request\n",
    "\n",
    "# download and extract model\n",
    "MODEL_DATE = '20200711'\n",
    "MODEL_NAME = 'ssd_mobilenet_v2_320x320_coco17_tpu-8'\n",
    "MODEL_TAR_FILENAME = MODEL_NAME + '.tar.gz'\n",
    "MODELS_DOWNLOAD_BASE = 'http://download.tensorflow.org/models/object_detection/tf2/'\n",
    "MODEL_DOWNLOAD_LINK = MODELS_DOWNLOAD_BASE + MODEL_DATE + '/' + MODEL_TAR_FILENAME\n",
    "PATH_TO_MODEL_TAR = os.path.join(MODELS_DIR, MODEL_TAR_FILENAME)\n",
    "PATH_TO_CKPT = os.path.join(MODELS_DIR, os.path.join(MODEL_NAME, 'checkpoint/'))\n",
    "PATH_TO_CFG = os.path.join(MODELS_DIR, os.path.join(MODEL_NAME, 'pipeline.config'))\n",
    "if not os.path.exists(PATH_TO_CKPT):\n",
    "    print('downloading model... ', end='')\n",
    "    urllib.request.urlretrieve(MODEL_DOWNLOAD_LINK, PATH_TO_MODEL_TAR)\n",
    "    tar_file = tarfile.open(PATH_TO_MODEL_TAR)\n",
    "    tar_file.extractall(MODELS_DIR)\n",
    "    tar_file.close()\n",
    "    os.remove(PATH_TO_MODEL_TAR)\n",
    "    print('Done')\n",
    "\n",
    "# labels file\n",
    "LABEL_FILENAME = 'mscoco_label_map.pbtxt'\n",
    "LABELS_BASE = \\\n",
    "    'https://raw.githubusercontent.com/tensorflow/models/master/research/object_detection/data/'\n",
    "PATH_TO_LABELS = os.path.join(MODELS_DIR, os.path.join(MODEL_NAME, LABEL_FILENAME))\n",
    "if not os.path.exists(PATH_TO_LABELS):\n",
    "    print('downloading label file... ', end='')\n",
    "    urllib.request.urlretrieve(LABELS_BASE + LABEL_FILENAME, PATH_TO_LABELS)\n",
    "    print('done')"
   ],
   "outputs": [],
   "execution_count": 3
  },
  {
   "cell_type": "markdown",
   "id": "6e35400a",
   "metadata": {},
   "source": "# Load the SSD_MobileNet model"
  },
  {
   "cell_type": "code",
   "id": "790a0636",
   "metadata": {
    "ExecuteTime": {
     "end_time": "2025-05-19T08:08:02.309645Z",
     "start_time": "2025-05-19T08:08:00.170428Z"
    }
   },
   "source": [
    "os.environ['TF_CPP_MIN_LOG_LEVEL'] = '2'\n",
    "import tensorflow as tf\n",
    "from object_detection.utils import label_map_util\n",
    "from object_detection.utils import visualization_utils as viz_utils\n",
    "\n",
    "tf.get_logger().setLevel('ERROR')\n",
    "\n",
    "# enable GPU dynamic memory allocation\n",
    "gpus = tf.config.experimental.list_physical_devices('GPU')\n",
    "for gpu in gpus:\n",
    "    tf.config.experimental.set_memory_growth(gpu, True)\n"
   ],
   "outputs": [],
   "execution_count": 4
  },
  {
   "metadata": {},
   "cell_type": "markdown",
   "source": "# Model Initialization & Inference Setup",
   "id": "e83143102793a7e"
  },
  {
   "metadata": {
    "ExecuteTime": {
     "end_time": "2025-05-19T08:08:08.441992Z",
     "start_time": "2025-05-19T08:08:05.238677Z"
    }
   },
   "cell_type": "code",
   "source": [
    "import os\n",
    "from object_detection.utils import config_util\n",
    "from object_detection.builders import model_builder\n",
    "\n",
    "configs = config_util.get_configs_from_pipeline_file(PATH_TO_CFG)\n",
    "model_config = configs['model']\n",
    "detection_model = model_builder.build(model_config=model_config, is_training=False)\n",
    "\n",
    "# load checkpoint\n",
    "ckpt = tf.compat.v2.train.Checkpoint(model=detection_model)\n",
    "ckpt.restore(os.path.join(PATH_TO_CKPT, 'ckpt-0')).expect_partial()\n",
    "\n",
    "#detection of objects in image\n",
    "@tf.function\n",
    "def detect_fn(image):\n",
    "    image, shapes = detection_model.preprocess(image)\n",
    "    prediction_dict = detection_model.predict(image, shapes)\n",
    "    detections = detection_model.postprocess(prediction_dict, shapes)\n",
    "    return detections, prediction_dict, tf.reshape(shapes, [-1])\n"
   ],
   "id": "f76055bb75b7c60e",
   "outputs": [],
   "execution_count": 5
  },
  {
   "cell_type": "markdown",
   "id": "bf4f8885",
   "metadata": {},
   "source": [
    "# Load label map data (for plotting)\n",
    "If the model predicts 10, then we know that this shows person."
   ]
  },
  {
   "cell_type": "code",
   "id": "d7119b08",
   "metadata": {
    "ExecuteTime": {
     "end_time": "2025-05-19T08:08:11.538837Z",
     "start_time": "2025-05-19T08:08:11.504127Z"
    }
   },
   "source": [
    "category_index = label_map_util.create_category_index_from_labelmap(PATH_TO_LABELS,\n",
    "                                                                    use_display_name=True)"
   ],
   "outputs": [],
   "execution_count": 6
  },
  {
   "cell_type": "markdown",
   "id": "e5d0b413",
   "metadata": {},
   "source": [
    "# Define the video stream"
   ]
  },
  {
   "cell_type": "code",
   "id": "54857efb",
   "metadata": {
    "ExecuteTime": {
     "end_time": "2025-05-19T08:08:17.090883Z",
     "start_time": "2025-05-19T08:08:12.989963Z"
    }
   },
   "source": [
    "import cv2\n",
    "\n",
    "cap = cv2.VideoCapture(0)"
   ],
   "outputs": [],
   "execution_count": 7
  },
  {
   "cell_type": "markdown",
   "id": "680ef3e2",
   "metadata": {},
   "source": "# Test object detection on a video stream"
  },
  {
   "cell_type": "code",
   "id": "ed3b3a5a",
   "metadata": {
    "ExecuteTime": {
     "end_time": "2025-05-19T08:09:46.486600Z",
     "start_time": "2025-05-19T08:09:37.308372Z"
    }
   },
   "source": [
    "import numpy as np\n",
    "import cv2\n",
    "\n",
    "\n",
    "cap = cv2.VideoCapture('test.mp4') #object_detection/test.mp4\n",
    "\n",
    "while cap.isOpened():\n",
    "    ret, image_np = cap.read()\n",
    "    input_tensor = tf.convert_to_tensor(np.expand_dims(image_np, 0), dtype=tf.float32)\n",
    "    detections, predictions_dict, shapes = detect_fn(input_tensor)\n",
    "\n",
    "    label_id_offset = 1\n",
    "    image_np_with_detections = image_np.copy()\n",
    "\n",
    "    viz_utils.visualize_boxes_and_labels_on_image_array(\n",
    "          image_np_with_detections,\n",
    "          detections['detection_boxes'][0].numpy(),\n",
    "          (detections['detection_classes'][0].numpy() + label_id_offset).astype(int),\n",
    "          detections['detection_scores'][0].numpy(),\n",
    "          category_index,\n",
    "          use_normalized_coordinates=True,\n",
    "          max_boxes_to_draw=200,\n",
    "          min_score_thresh=.40,\n",
    "          line_thickness=1,\n",
    "          agnostic_mode=False)\n",
    "\n",
    "    cv2.imshow('ssd_mobilenet', image_np_with_detections)\n",
    "    if cv2.waitKey(1) == 13: #Enter Key\n",
    "        break\n",
    "\n",
    "cap.release()\n",
    "cv2.destroyAllWindows()"
   ],
   "outputs": [],
   "execution_count": 9
  },
  {
   "metadata": {
    "jupyter": {
     "is_executing": true
    },
    "ExecuteTime": {
     "start_time": "2025-05-19T08:28:04.973161Z"
    }
   },
   "cell_type": "code",
   "source": [
    "import cv2\n",
    "import numpy as np\n",
    "import tensorflow as tf\n",
    "\n",
    "# paths and settings\n",
    "INPUT_VIDEO  = 'test.mp4'\n",
    "OUTPUT_VIDEO = 'result.mp4'\n",
    "THRESHOLD    = 0.45  # Person Threshold\n",
    "WIDTH, HEIGHT = 1280, 720\n",
    "\n",
    "# open video\n",
    "cap = cv2.VideoCapture(INPUT_VIDEO)\n",
    "fps = cap.get(cv2.CAP_PROP_FPS) or 30\n",
    "\n",
    "fourcc = cv2.VideoWriter_fourcc(*'mp4v')\n",
    "out = cv2.VideoWriter(OUTPUT_VIDEO, fourcc, fps, (WIDTH, HEIGHT))\n",
    "\n",
    "close_kernel = cv2.getStructuringElement(cv2.MORPH_ELLIPSE, (7,7))\n",
    "\n",
    "while cap.isOpened():\n",
    "    ret, frame = cap.read()\n",
    "    if not ret:\n",
    "        break\n",
    "\n",
    "    frame = cv2.resize(frame, (WIDTH, HEIGHT))\n",
    "\n",
    "    inp = tf.convert_to_tensor(np.expand_dims(frame, 0), dtype=tf.float32)\n",
    "    detections, _, _ = detect_fn(inp)\n",
    "\n",
    "    # build raw mask of all persons ≥ threshold\n",
    "    mask = np.zeros((HEIGHT, WIDTH), np.uint8)\n",
    "    boxes   = detections['detection_boxes'][0].numpy()\n",
    "    classes = (detections['detection_classes'][0].numpy() + 1).astype(int)\n",
    "    scores  = detections['detection_scores'][0].numpy()\n",
    "\n",
    "    for box, cls, score in zip(boxes, classes, scores):\n",
    "        if cls in category_index and category_index[cls]['name']=='person' and score>=THRESHOLD:\n",
    "            y1, x1, y2, x2 = (box * np.array([HEIGHT, WIDTH, HEIGHT, WIDTH])).astype(int)\n",
    "            cv2.rectangle(mask, (x1,y1), (x2,y2), 255, -1)\n",
    "\n",
    "    # close tiny holes & gaps in mask\n",
    "    mask = cv2.morphologyEx(mask, cv2.MORPH_CLOSE, close_kernel, iterations=1)\n",
    "    # blur the mask to soften its edges\n",
    "    mask = cv2.GaussianBlur(mask, (31,31), 0)\n",
    "\n",
    "    # inpaint using Telea\n",
    "    cleaned = cv2.inpaint(frame, mask, inpaintRadius=5, flags=cv2.INPAINT_TELEA)\n",
    "\n",
    "    # sharpening to restore contrast\n",
    "    sharpen_kernel = np.array([[ 0, -1,  0],\n",
    "                               [-1,  5, -1],\n",
    "                               [ 0, -1,  0]])\n",
    "    cleaned = cv2.filter2D(cleaned, -1, sharpen_kernel)\n",
    "\n",
    "    # write & show\n",
    "    out.write(cleaned)\n",
    "    cv2.imshow('cleaned', cleaned)\n",
    "    if cv2.waitKey(1) & 0xFF == ord('q'):\n",
    "        break\n",
    "\n",
    "cap.release()\n",
    "out.release()\n",
    "cv2.destroyAllWindows()\n"
   ],
   "id": "e30d42c28c56b23f",
   "outputs": [],
   "execution_count": null
  }
 ],
 "metadata": {
  "kernelspec": {
   "display_name": "Python [conda env:tfod38]",
   "language": "python",
   "name": "tfod38"
  },
  "language_info": {
   "codemirror_mode": {
    "name": "ipython",
    "version": 3
   },
   "file_extension": ".py",
   "mimetype": "text/x-python",
   "name": "python",
   "nbconvert_exporter": "python",
   "pygments_lexer": "ipython3",
   "version": "3.8.20"
  }
 },
 "nbformat": 4,
 "nbformat_minor": 5
}
